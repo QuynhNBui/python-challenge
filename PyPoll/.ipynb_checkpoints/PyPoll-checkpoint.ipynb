{
 "cells": [
  {
   "cell_type": "code",
   "execution_count": 47,
   "metadata": {},
   "outputs": [],
   "source": [
    "import os\n",
    "import csv"
   ]
  },
  {
   "cell_type": "code",
   "execution_count": 48,
   "metadata": {},
   "outputs": [],
   "source": [
    "csvpath = os.path.join(\"Resources\", \"election_data.csv\")"
   ]
  },
  {
   "cell_type": "code",
   "execution_count": 49,
   "metadata": {},
   "outputs": [],
   "source": [
    "#initialize variables\n",
    "vote_count = 0\n",
    "vote_percentage = []\n",
    "#list of candidates:\n",
    "candidates = []\n",
    "#candidate dictionary:\n",
    "candidate_vote = {}\n"
   ]
  },
  {
   "cell_type": "code",
   "execution_count": 50,
   "metadata": {},
   "outputs": [
    {
     "name": "stdout",
     "output_type": "stream",
     "text": [
      "{'Khan': 2218231, 'Correy': 704200, 'Li': 492940, \"O'Tooley\": 105630}\n",
      "Khan\n",
      "[]\n"
     ]
    }
   ],
   "source": [
    "with open(csvpath,newline =\"\") as election_file:\n",
    "    election_data = csv.reader(election_file, delimiter = \",\")\n",
    "    \n",
    "    #read the header first\n",
    "    header = next(election_data)\n",
    "    \n",
    "    #get total count and list of candidate\n",
    "    for row in election_data:\n",
    "        vote_count += 1\n",
    "        candidates.append(row[2])\n",
    "    \n",
    "        \n",
    "    #counting vote for each candidate\n",
    "    for candidate in candidates:\n",
    "        candidate_vote[candidate] = candidate_vote.get(candidate,0) + 1\n",
    "    print(candidate_vote)\n",
    "    \n",
    "    #find the winner:\n",
    "    most_vote = max(candidate_vote.values())\n",
    "    winner = [k for k, v in candidate_vote.items() if v == most_vote]\n",
    "    print(winner[0])\n",
    "    print(vote_percentage)\n",
    "    "
   ]
  },
  {
   "cell_type": "code",
   "execution_count": null,
   "metadata": {},
   "outputs": [],
   "source": []
  },
  {
   "cell_type": "code",
   "execution_count": 54,
   "metadata": {},
   "outputs": [
    {
     "ename": "FileNotFoundError",
     "evalue": "[Errno 2] No such file or directory: 'Resource/PyPoll_Report.txt'",
     "output_type": "error",
     "traceback": [
      "\u001b[0;31m---------------------------------------------------------------------------\u001b[0m",
      "\u001b[0;31mFileNotFoundError\u001b[0m                         Traceback (most recent call last)",
      "\u001b[0;32m<ipython-input-54-1e6e4f666b24>\u001b[0m in \u001b[0;36m<module>\u001b[0;34m\u001b[0m\n\u001b[1;32m      3\u001b[0m \u001b[0moutput_path\u001b[0m \u001b[0;34m=\u001b[0m \u001b[0mos\u001b[0m\u001b[0;34m.\u001b[0m\u001b[0mpath\u001b[0m\u001b[0;34m.\u001b[0m\u001b[0mjoin\u001b[0m\u001b[0;34m(\u001b[0m\u001b[0;34m\"Resource\"\u001b[0m\u001b[0;34m,\u001b[0m \u001b[0;34m\"PyPoll_Report.txt\"\u001b[0m \u001b[0;34m)\u001b[0m\u001b[0;34m\u001b[0m\u001b[0;34m\u001b[0m\u001b[0m\n\u001b[1;32m      4\u001b[0m \u001b[0;34m\u001b[0m\u001b[0m\n\u001b[0;32m----> 5\u001b[0;31m \u001b[0;32mwith\u001b[0m \u001b[0mopen\u001b[0m\u001b[0;34m(\u001b[0m\u001b[0moutput_path\u001b[0m\u001b[0;34m,\u001b[0m\u001b[0;34m\"w\"\u001b[0m\u001b[0;34m)\u001b[0m \u001b[0;32mas\u001b[0m \u001b[0moutput_file\u001b[0m\u001b[0;34m:\u001b[0m\u001b[0;34m\u001b[0m\u001b[0;34m\u001b[0m\u001b[0m\n\u001b[0m\u001b[1;32m      6\u001b[0m     \u001b[0moutput_file\u001b[0m\u001b[0;34m.\u001b[0m\u001b[0mwritelines\u001b[0m\u001b[0;34m(\u001b[0m\u001b[0;34m\"Election Results\\n\"\u001b[0m\u001b[0;34m)\u001b[0m\u001b[0;34m\u001b[0m\u001b[0;34m\u001b[0m\u001b[0m\n\u001b[1;32m      7\u001b[0m     \u001b[0moutput_file\u001b[0m\u001b[0;34m.\u001b[0m\u001b[0mwritelines\u001b[0m\u001b[0;34m(\u001b[0m\u001b[0;34m\"____________________\"\u001b[0m \u001b[0;34m+\u001b[0m \u001b[0;34m\"\\n\"\u001b[0m\u001b[0;34m)\u001b[0m\u001b[0;34m\u001b[0m\u001b[0;34m\u001b[0m\u001b[0m\n",
      "\u001b[0;31mFileNotFoundError\u001b[0m: [Errno 2] No such file or directory: 'Resource/PyPoll_Report.txt'"
     ]
    }
   ],
   "source": [
    "# print results\n",
    "\n",
    "output_path = os.path.join(\"Resource\", \"PyPoll_Report.txt\" )\n",
    "\n",
    "with open(output_path,\"w\") as output_file:\n",
    "    output_file.writelines(\"Election Results\\n\")\n",
    "    output_file.writelines(\"____________________\" + \"\\n\")\n",
    "    output_file.writelines(f\"Total Votes: {vote_count}\")\n",
    "        \n",
    "    for k, v in candidate_vote.items():\n",
    "        output_file(k + \":\" + \"0.1f}%\".format(v/vote_count*100)+\"(\" + str(v)+\")\"+\"\\n\")\n",
    "    \n",
    "    output_file.writelines(\"\\n___________________________\\n\")\n",
    "    output_file.writelines(\"Winner: \"+ max(candidate_vote, key = candidate_vote.get)+ \"\\n\")\n",
    "    output_file.writelines(\"\\n___________________________\\n\")\n",
    "        \n",
    "with open(output_path,\"r\") as result_file:\n",
    "    print(result_file.read())"
   ]
  },
  {
   "cell_type": "code",
   "execution_count": null,
   "metadata": {},
   "outputs": [],
   "source": []
  }
 ],
 "metadata": {
  "kernelspec": {
   "display_name": "Python 3",
   "language": "python",
   "name": "python3"
  },
  "language_info": {
   "codemirror_mode": {
    "name": "ipython",
    "version": 3
   },
   "file_extension": ".py",
   "mimetype": "text/x-python",
   "name": "python",
   "nbconvert_exporter": "python",
   "pygments_lexer": "ipython3",
   "version": "3.7.3"
  }
 },
 "nbformat": 4,
 "nbformat_minor": 2
}
